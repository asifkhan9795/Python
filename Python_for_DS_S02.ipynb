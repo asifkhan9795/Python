{
 "cells": [
  {
   "cell_type": "markdown",
   "id": "879ef442",
   "metadata": {},
   "source": [
    "### UPDATING VARIABLES/VARIABLE REASSIGNMENT"
   ]
  },
  {
   "cell_type": "code",
   "execution_count": null,
   "id": "b12695ed",
   "metadata": {},
   "outputs": [],
   "source": [
    "my_num1 = 10\n",
    "print(\"my_num1 right now is:\", my_num1)\n",
    "\n",
    "my_num1 = my_num1 + 10\n",
    "print(\"my_num after reassignment is:\", my_num1)"
   ]
  },
  {
   "cell_type": "code",
   "execution_count": null,
   "id": "971054a4",
   "metadata": {},
   "outputs": [],
   "source": [
    "#another way to update variable:\n",
    "\n",
    "my_num1 = 10\n",
    "print(\"my_num1 right now is:\", my_num1)\n",
    "\n",
    "my_num1 += 10\n",
    "print(\"my_num after reassignment is:\", my_num1)"
   ]
  },
  {
   "cell_type": "code",
   "execution_count": null,
   "id": "be7ad98c",
   "metadata": {},
   "outputs": [],
   "source": [
    "my_num2 = 8\n",
    "my_num2 -= 2\n",
    "print(my_num2)"
   ]
  },
  {
   "cell_type": "code",
   "execution_count": null,
   "id": "236b7e91",
   "metadata": {},
   "outputs": [],
   "source": [
    "my_num3 = 8\n",
    "my_num3 /= 2\n",
    "print(my_num3)"
   ]
  },
  {
   "cell_type": "code",
   "execution_count": null,
   "id": "f7193c04",
   "metadata": {},
   "outputs": [],
   "source": [
    "my_num4 = 8\n",
    "my_num4 **= 2 # ** is power/exponentiation\n",
    "print(my_num4)"
   ]
  },
  {
   "cell_type": "markdown",
   "id": "cc0878f3",
   "metadata": {},
   "source": [
    "### LIST AND STRING INDEXING"
   ]
  },
  {
   "cell_type": "code",
   "execution_count": null,
   "id": "28f248c4",
   "metadata": {},
   "outputs": [],
   "source": [
    "my_list = [\"python\", 3.14, False, 1054, \"class\", True, [1,2,3]]\n",
    "\n",
    "len(my_list) #gives you length of the object i.e. the number of characters in the string or number of items in a list"
   ]
  },
  {
   "cell_type": "code",
   "execution_count": 27,
   "id": "0c541a16",
   "metadata": {},
   "outputs": [
    {
     "name": "stdout",
     "output_type": "stream",
     "text": [
      "python\n",
      "1054\n",
      "[1, 2, 3]\n",
      "class\n"
     ]
    }
   ],
   "source": [
    "my_list = [\"python\", 3.14, False, 1054, \"class\", True, [1,2,3]]\n",
    "\n",
    "\n",
    "print(my_list[0]) #index of the first element. python has zero based indexing\n",
    "print(my_list[3]) #gives item with index 3 i.e. 4th item\n",
    "print(my_list[-1]) #reverse indexing starts with -1, NOT -0\n",
    "print(my_list[-3]) #reverse indexing starts with -1, NOT -0"
   ]
  },
  {
   "cell_type": "code",
   "execution_count": 28,
   "id": "d7b8ac71",
   "metadata": {},
   "outputs": [
    {
     "name": "stdout",
     "output_type": "stream",
     "text": [
      "n\n",
      "s\n",
      "2\n"
     ]
    }
   ],
   "source": [
    "#if the item you index in the main object is also indexable, you can further index it like so:\n",
    "\n",
    "my_list = [\"python\", 3.14, False, 1054, \"class\", True, [1,2,3]]\n",
    "\n",
    "\n",
    "print(my_list[0][-1])\n",
    "print(my_list[4][-2])\n",
    "print(my_list[-1][1])"
   ]
  },
  {
   "cell_type": "code",
   "execution_count": 29,
   "id": "0bfc51e6",
   "metadata": {},
   "outputs": [
    {
     "name": "stdout",
     "output_type": "stream",
     "text": [
      "<class 'bool'>\n",
      "<class 'str'>\n"
     ]
    }
   ],
   "source": [
    "#you can find out the type of a specific element inside a list\n",
    "\n",
    "print(type(my_list[2]))\n",
    "print(type(my_list[-3]))"
   ]
  },
  {
   "cell_type": "code",
   "execution_count": 30,
   "id": "3944ac01",
   "metadata": {},
   "outputs": [
    {
     "name": "stdout",
     "output_type": "stream",
     "text": [
      "3.14\n",
      "[1, 2, 3]\n",
      "[3.14, False, 1054]\n",
      "[3.14, 1054, True]\n",
      "['python', False, 'class', [1, 2, 3]]\n"
     ]
    }
   ],
   "source": [
    "#you can also index slices\n",
    "#start:stop:step\n",
    "#start element is included in the slice but the stop index is NOT\n",
    "\n",
    "my_list = [\"python\", 3.14, False, 1054, \"class\", True, [1,2,3]]\n",
    "\n",
    "\n",
    "print(my_list[1])\n",
    "print(my_list[-1])\n",
    "print(my_list[1:4]) #you will get index 1, 2 and 3 but NOT 4\n",
    "print(my_list[1:6:2]) #start is 1, stop is 6 and step is 2\n",
    "print(my_list[::2])"
   ]
  },
  {
   "cell_type": "code",
   "execution_count": 31,
   "id": "246433f3",
   "metadata": {},
   "outputs": [
    {
     "name": "stdout",
     "output_type": "stream",
     "text": [
      "bcdefghi\n",
      "abcdefghij\n",
      "defghijklmnopqrst\n",
      "adgjmps\n",
      "qponmlkjihgfedcb\n",
      "dfhjln\n",
      "kmo\n",
      "fdb\n"
     ]
    }
   ],
   "source": [
    "my_str = \"abcdefghijklmnopqrst\"\n",
    "\n",
    "\n",
    "print(my_str[1:9])\n",
    "print(my_str[:10])\n",
    "print(my_str[3:])\n",
    "print(my_str[::3])\n",
    "print(my_str[16:0:-1])\n",
    "print(my_str[3:15:2])\n",
    "print(my_str[-10:-5:2])\n",
    "print(my_str[-15:0:-2])"
   ]
  },
  {
   "cell_type": "markdown",
   "id": "74b59a66",
   "metadata": {},
   "source": [
    "### LISTS\n",
    "\n",
    "-Lists are mutable\n",
    "\n",
    "-Defined by square brackets [ ]"
   ]
  },
  {
   "cell_type": "markdown",
   "id": "94f8702f",
   "metadata": {},
   "source": [
    "LIST METHODS\n",
    "(lists methods can DIRECTLY alter your list without having to reassign the result back to the list)"
   ]
  },
  {
   "cell_type": "code",
   "execution_count": 8,
   "id": "d07a070b",
   "metadata": {},
   "outputs": [
    {
     "name": "stdout",
     "output_type": "stream",
     "text": [
      "['mango', 'apple', 'banana']\n",
      "['mango', 'apple', 'banana', 'watermelon']\n"
     ]
    }
   ],
   "source": [
    "fruits = [\"mango\", \"apple\", \"banana\"]\n",
    "print(fruits)\n",
    "\n",
    "fruits.append(\"watermelon\")\n",
    "print(fruits)\n",
    "\n",
    "#note that another watermelon will be appended to fruits every time you run this cell because the list isn't being defined in this cell"
   ]
  },
  {
   "cell_type": "markdown",
   "id": "a5d52fbb",
   "metadata": {},
   "source": [
    "from this point onwards, i will be redefining fruits in every cell so that the lists gets reset every time you apply a new method. I am doing this so you can see the effects of each method on the original list separately. if I don't redefine, and just apply the methods in every cell, a lot of changes will happen to the original list together. "
   ]
  },
  {
   "cell_type": "code",
   "execution_count": 9,
   "id": "2f0d2ac5",
   "metadata": {},
   "outputs": [
    {
     "name": "stdout",
     "output_type": "stream",
     "text": [
      "['mango', 'apple', 'banana']\n",
      "['mango', 'watermelon', 'kiwi']\n"
     ]
    }
   ],
   "source": [
    "#you can DIRECTLY alter the elements of a list by using indexing like so:\n",
    "\n",
    "fruits = [\"mango\", \"apple\", \"banana\"]\n",
    "print(fruits)\n",
    "\n",
    "fruits[1] = \"watermelon\"\n",
    "fruits[2] = \"kiwi\"\n",
    "print(fruits)"
   ]
  },
  {
   "cell_type": "code",
   "execution_count": 11,
   "id": "d56d0b72",
   "metadata": {},
   "outputs": [
    {
     "name": "stdout",
     "output_type": "stream",
     "text": [
      "['mango', 'apple', 'banana']\n",
      "['mango', 'apple', 'watermelon', 'banana']\n"
     ]
    }
   ],
   "source": [
    "fruits = [\"mango\", \"apple\", \"banana\"]\n",
    "print(fruits)\n",
    "\n",
    "\n",
    "fruits.insert(2, \"watermelon\") #argument 1 is index and argument 2 is the element you wish to insert at that index. Again, this method is DIRECTLY changing the list without the need for reassignment\n",
    "print(fruits)"
   ]
  },
  {
   "cell_type": "code",
   "execution_count": 12,
   "id": "aa04da41",
   "metadata": {},
   "outputs": [
    {
     "name": "stdout",
     "output_type": "stream",
     "text": [
      "['mango', 'apple', 'banana']\n",
      "['mango', 'apple', 'banana', 'watermelon']\n"
     ]
    }
   ],
   "source": [
    "fruits = [\"mango\", \"apple\", \"banana\"]\n",
    "print(fruits)\n",
    "\n",
    "fruits.append(\"watermelon\") #adds item to end of list. can only add one item at a time\n",
    "print(fruits)"
   ]
  },
  {
   "cell_type": "code",
   "execution_count": 13,
   "id": "82d2d2f4",
   "metadata": {},
   "outputs": [
    {
     "name": "stdout",
     "output_type": "stream",
     "text": [
      "['mango', 'apple', 'banana']\n",
      "['mango', 'apple', 'banana', ['watermelon', 'orange']]\n"
     ]
    }
   ],
   "source": [
    "fruits = [\"mango\", \"apple\", \"banana\"]\n",
    "print(fruits)\n",
    "\n",
    "fruits.append([\"watermelon\", \"orange\"]) #can only add one item at a time, so it appended it as a list to the end\n",
    "print(fruits)"
   ]
  },
  {
   "cell_type": "code",
   "execution_count": 14,
   "id": "b1679a14",
   "metadata": {},
   "outputs": [
    {
     "name": "stdout",
     "output_type": "stream",
     "text": [
      "['mango', 'apple', 'banana']\n",
      "['mango', 'apple', 'banana', 'watermelon', 'orange']\n"
     ]
    }
   ],
   "source": [
    "#this can add multiple items, but multiple items need to be given in a SINGLE argument in the form of a list or tuple\n",
    "fruits = [\"mango\", \"apple\", \"banana\"]\n",
    "print(fruits)\n",
    "\n",
    "fruits.extend([\"watermelon\", \"orange\"])\n",
    "print(fruits)"
   ]
  },
  {
   "cell_type": "code",
   "execution_count": 15,
   "id": "21b69e2c",
   "metadata": {},
   "outputs": [
    {
     "name": "stdout",
     "output_type": "stream",
     "text": [
      "['mango', 'apple', 'banana']\n",
      "['apple', 'banana']\n"
     ]
    }
   ],
   "source": [
    "fruits = [\"mango\", \"apple\", \"banana\"]\n",
    "print(fruits)\n",
    "\n",
    "fruits.remove(\"mango\") #removes the element given as argument. throws error if element not in list\n",
    "print(fruits)"
   ]
  },
  {
   "cell_type": "code",
   "execution_count": 17,
   "id": "f307af5c",
   "metadata": {},
   "outputs": [
    {
     "name": "stdout",
     "output_type": "stream",
     "text": [
      "['mango', 'apple', 'banana']\n",
      "['mango', 'banana']\n",
      "apple\n"
     ]
    }
   ],
   "source": [
    "#pop method takes an index as argument and removes element from that index. \n",
    "#ALSO returns that element back to you, that you can store in a new variable and use like I am storing it in removed_element below\n",
    "#if you run it without storing the return, it will still remove the element, you just won't be able to use the removed element\n",
    "\n",
    "fruits = [\"mango\", \"apple\", \"banana\"]\n",
    "print(fruits)\n",
    "\n",
    "removed_element = fruits.pop(1) \n",
    "print(fruits)\n",
    "print(removed_element)"
   ]
  },
  {
   "cell_type": "markdown",
   "id": "594f9e93",
   "metadata": {},
   "source": [
    "LIST CONCATENATION"
   ]
  },
  {
   "cell_type": "code",
   "execution_count": null,
   "id": "f17052fe",
   "metadata": {},
   "outputs": [],
   "source": [
    "#lists can also be concatenated as follows using the + operator:\n",
    "\n",
    "new_list= [1,2,3] + [\"python\"]\n",
    "\n",
    "print(new_list)"
   ]
  },
  {
   "cell_type": "markdown",
   "id": "7b73a1d0",
   "metadata": {},
   "source": [
    "### STRINGS \n",
    "\n",
    "- strings are immutable\n",
    "- defined in quotes\n",
    "\n",
    "METHODS\n",
    "\n",
    "there are many more string methods outlined in your manual. please try them all out and observe their output"
   ]
  },
  {
   "cell_type": "code",
   "execution_count": null,
   "id": "cf9619be",
   "metadata": {},
   "outputs": [],
   "source": [
    "#you CANNOT directly alter the elements of a STRING by using indexing like so:\n",
    "\n",
    "\n",
    "my_str = \"abcdefghijklmnopqrstuvwxyz\"\n",
    "my_str[3] = \"8\""
   ]
  },
  {
   "cell_type": "code",
   "execution_count": null,
   "id": "3da657f3",
   "metadata": {},
   "outputs": [],
   "source": [
    "#this method returns a new str that needs to be stored back into my_str or a new variable\n",
    "#applying this method like below will NOT change original my_str, without storing it back into the original my_str\n",
    "\n",
    "my_str = \"abcdefghijklmnopqrstuvwxyz\"\n",
    "my_str.replace(\"c\", \"8\") \n",
    "\n",
    "print(my_str)"
   ]
  },
  {
   "cell_type": "code",
   "execution_count": null,
   "id": "c3449e72",
   "metadata": {},
   "outputs": [],
   "source": [
    "#THIS will make changes to the original my_str, due to reassignment \n",
    "\n",
    "my_str = my_str.replace(\"c\", \"8\") \n",
    "print(my_str)"
   ]
  },
  {
   "cell_type": "code",
   "execution_count": null,
   "id": "77a1dd8d",
   "metadata": {},
   "outputs": [],
   "source": [
    "#this method returns index of the first instance of specified element. throws an error if element not found\n",
    "\n",
    "my_str = \"abcdefghijklmnopqrstuvwxyz\"\n",
    "my_str.index(\"8\") "
   ]
  },
  {
   "cell_type": "code",
   "execution_count": null,
   "id": "6343f05e",
   "metadata": {},
   "outputs": [],
   "source": [
    "#this method returns index of the first instance of specified element. returns -1 if element not found\n",
    "\n",
    "my_str = \"abcdefghijklmnopqrstuvwxyz\"\n",
    "my_str.find(\"8\") "
   ]
  },
  {
   "cell_type": "code",
   "execution_count": null,
   "id": "51118488",
   "metadata": {},
   "outputs": [],
   "source": [
    "my_str = \"abcdefghijklmnopqrstuvwxyz\"\n",
    "my_str.upper() \n",
    "\n",
    "#this method returns a NEW string with all characters uppercase. \n",
    "#again, applying this method like this does NOT change the original string. The changed string that is returned is a COPY"
   ]
  },
  {
   "cell_type": "code",
   "execution_count": null,
   "id": "e1dd1e4d",
   "metadata": {},
   "outputs": [],
   "source": [
    "my_str = \"abcdefghijklmnopqrstuvwxyz\"\n",
    "\n",
    "my_str.isnumeric() #checks if all char in string are numeric"
   ]
  },
  {
   "cell_type": "code",
   "execution_count": null,
   "id": "2a6b9642",
   "metadata": {},
   "outputs": [],
   "source": [
    "my_str = \"abcdefghijklmnopqrstuvwxyz\"\n",
    "\n",
    "my_str.isalpha() #checks if all char in string are alphabets"
   ]
  },
  {
   "cell_type": "markdown",
   "id": "764d0cdc",
   "metadata": {},
   "source": [
    "STRING CONCATENATION"
   ]
  },
  {
   "cell_type": "code",
   "execution_count": 3,
   "id": "1c0b7268",
   "metadata": {},
   "outputs": [
    {
     "data": {
      "text/plain": [
       "'pythonclass'"
      ]
     },
     "execution_count": 3,
     "metadata": {},
     "output_type": "execute_result"
    }
   ],
   "source": [
    "#you can concatenate strings with a plus sign\n",
    "\n",
    "\"python\" + \"class\""
   ]
  },
  {
   "cell_type": "code",
   "execution_count": 21,
   "id": "1b3b8ebe",
   "metadata": {},
   "outputs": [
    {
     "name": "stdout",
     "output_type": "stream",
     "text": [
      "Python Class\n",
      "Python Basics Class\n"
     ]
    }
   ],
   "source": [
    "#using concatenation to make a new string from my_str with first letter capitalized. \n",
    "\n",
    "my_str = \"Python Class\"\n",
    "print(my_str)\n",
    "\n",
    "my_str = my_str[0 : 6] + \" Basics \" + my_str[7 : 12]\n",
    "print(my_str)"
   ]
  },
  {
   "cell_type": "markdown",
   "id": "366c5389",
   "metadata": {},
   "source": [
    "DELETING A STRING\n",
    "\n",
    "del is NOT just for strings. It works with other objects as well like lists and dictionaries etc for deletion. "
   ]
  },
  {
   "cell_type": "code",
   "execution_count": null,
   "id": "51b45a0d",
   "metadata": {},
   "outputs": [],
   "source": [
    "del new_str #deletes an object from memory. del works with all objects, not just strings"
   ]
  },
  {
   "cell_type": "code",
   "execution_count": null,
   "id": "ebe6ab4f",
   "metadata": {},
   "outputs": [],
   "source": [
    "print(new_str) #no longer found because deleted in the cell above"
   ]
  },
  {
   "cell_type": "markdown",
   "id": "27b9fb6b",
   "metadata": {},
   "source": [
    "STRING SINGLE, DOUBLE AND TRIPLE QUOTES"
   ]
  },
  {
   "cell_type": "code",
   "execution_count": null,
   "id": "9fed600d",
   "metadata": {},
   "outputs": [],
   "source": [
    "my_str1 = \"my name is Ann\"\n",
    "my_str2 = 'my \"name\" is Ann' # if your string has quotation marks inside it \n",
    "my_str3 = '''my name is Ann\n",
    "and I am in this python class''' #if your string is multiline i.e. has a newline character, you need to define it with triple quotes\n",
    "\n",
    "\n",
    "print(my_str1) #the \"\\n\" here is to just add a new line so the results are separated by a line\n",
    "print(my_str2)\n",
    "print(my_str3)"
   ]
  },
  {
   "cell_type": "markdown",
   "id": "09bb5582",
   "metadata": {},
   "source": [
    "### TUPLES\n",
    "\n",
    "-tuples are immutable\n",
    "\n",
    "-defined by round brackets ()\n",
    "\n",
    "-indexing of tuples works the same way as lists and strings"
   ]
  },
  {
   "cell_type": "code",
   "execution_count": null,
   "id": "507282a8",
   "metadata": {},
   "outputs": [],
   "source": [
    "#to define a tuple with only one element, you need to add a comma after the item, else python won't recognize it as a tuple\n",
    "\n",
    "my_tup = (\"orange\",) \n",
    "print(\"type of my_tup:\", type(my_tup))\n",
    "\n",
    "my_tup2 = (\"orange\")\n",
    "print(\"type of my_tup2:\", type(my_tup2))"
   ]
  },
  {
   "cell_type": "code",
   "execution_count": null,
   "id": "2cc98f80",
   "metadata": {},
   "outputs": [],
   "source": [
    "my_tup = (1, False, 2000, 3.14, True ,4, 5, \"python\", [1,2,3])\n",
    "\n",
    "my_tup[5] = \"class\" #operation not possible due to immutability"
   ]
  },
  {
   "cell_type": "markdown",
   "id": "d106a949",
   "metadata": {},
   "source": [
    "TUPLE METHODS"
   ]
  },
  {
   "cell_type": "code",
   "execution_count": null,
   "id": "17246d0d",
   "metadata": {},
   "outputs": [],
   "source": [
    "my_tup.count(\"python\")"
   ]
  },
  {
   "cell_type": "code",
   "execution_count": null,
   "id": "5ea3369c",
   "metadata": {},
   "outputs": [],
   "source": [
    "my_tup.index(\"python\")"
   ]
  },
  {
   "cell_type": "markdown",
   "id": "a598a32d",
   "metadata": {},
   "source": [
    "TUPLE CONCATENATION\n",
    "\n",
    "Tuple concatenation DOES work with the + operator (i wrongly said in class that it doesn't), but if any of the tuples you are concatenating have one element, it needs to be defined with a comma at the end, else it won't be read as a tuple and you will get an error (i.e. it cannot concatenate different datatypes)"
   ]
  },
  {
   "cell_type": "code",
   "execution_count": null,
   "id": "0c700eb1",
   "metadata": {},
   "outputs": [],
   "source": [
    "#both of these are being read as tuples now so we get a concatenated tuple back\n",
    "\n",
    "(\"python\",) + (\"class\",)"
   ]
  },
  {
   "cell_type": "code",
   "execution_count": null,
   "id": "9fdd9e9c",
   "metadata": {},
   "outputs": [],
   "source": [
    "#without comma, single element tuples are not read as tuples but as the datatype inside the round brackets\n",
    "\n",
    "(\"python\") + (\"class\")"
   ]
  },
  {
   "cell_type": "code",
   "execution_count": 22,
   "id": "fba5ae63",
   "metadata": {},
   "outputs": [
    {
     "name": "stdout",
     "output_type": "stream",
     "text": [
      "(1, False, 2000, 3.14, True, 4, 5, 'python', 'class', [1, 2, 3])\n"
     ]
    }
   ],
   "source": [
    "#if we want to add \"class\" in this tuple through concatenation\n",
    "\n",
    "my_tup = (1, False, 2000, 3.14, True ,4, 5, \"python\", [1,2,3])\n",
    "\n",
    "my_tup_new = my_tup[:8] + (\"class\",) + my_tup[8:]\n",
    "\n",
    "print(my_tup_new)"
   ]
  },
  {
   "cell_type": "markdown",
   "id": "a97ceda0",
   "metadata": {},
   "source": [
    "### DICTIONARIES \n",
    "\n",
    "-Dictionaries are mutable\n",
    "\n",
    "-Contain key:value pairs.\n",
    "\n",
    "-Defined by curly brackets {}\n",
    "\n",
    "-Cannot contain duplicated keys\n",
    "\n",
    "\n",
    "-Tuples can be used as dictionary keys. \n",
    "Other objects that are valid keys:\n",
    "1) int\n",
    "2) string\n",
    "3) float\n",
    "4) boolean"
   ]
  },
  {
   "cell_type": "code",
   "execution_count": null,
   "id": "b7fb94e1",
   "metadata": {},
   "outputs": [],
   "source": [
    "#if you add duplicate keys, it will be overwritten by the last added value against that key\n",
    "\n",
    "grades = {\"Hamza\":95, \"Hassan\":50, \"Abeer\": 89, \"Hassan\": 85}\n",
    "\n",
    "print(grades)"
   ]
  },
  {
   "cell_type": "code",
   "execution_count": 23,
   "id": "4d4d4aaf",
   "metadata": {},
   "outputs": [
    {
     "name": "stdout",
     "output_type": "stream",
     "text": [
      "95\n",
      "50\n",
      "89\n"
     ]
    }
   ],
   "source": [
    "#you use the key to call on an element inside the dictionary\n",
    "\n",
    "grades = {\"Hamza\":95, \"Hassan\":50, \"Abeer\": 89}\n",
    "\n",
    "print(grades[\"Hamza\"])\n",
    "print(grades[\"Hassan\"])\n",
    "print(grades[\"Abeer\"])"
   ]
  },
  {
   "cell_type": "code",
   "execution_count": null,
   "id": "6458cd83",
   "metadata": {},
   "outputs": [],
   "source": [
    "grades2 = {\"Hamza\": [80, 85, 70], \"Hassan\": [80, 90, 95], \"Abeer\":[85, 80, 75]}\n",
    "\n",
    "print(grades2[\"Hamza\"][0])\n",
    "print(grades2[\"Azeem\"][2])"
   ]
  },
  {
   "cell_type": "code",
   "execution_count": null,
   "id": "8ff18edc",
   "metadata": {},
   "outputs": [],
   "source": [
    "#tuples as keys\n",
    "\n",
    "coordinates = {(2,3,4) : \"Lahore\", (5,6,7): \"Karachi\"}\n",
    "\n",
    "print(coordinates[(2,3,4)])"
   ]
  },
  {
   "cell_type": "code",
   "execution_count": null,
   "id": "936204f4",
   "metadata": {},
   "outputs": [],
   "source": [
    "#nested dictionary\n",
    "\n",
    "grades3 = {\"Hamza\": {\"english\":80, \"python\":85}, \"Hassan\": [80, 90, 95], \"Abeer\":[85, 80, 75]}\n",
    "\n",
    "print(grades3[\"Hamza\"][\"english\"])\n",
    "\n",
    "\n",
    "#grades3[\"Hamza\"] will look for the key Hamza in grades3 and return a value, which is a whole dictionary itself\n",
    "#grades3[\"Hamza\"][\"english\"] will then look for the \"english\" key in the nested dictionary and return its value\n"
   ]
  },
  {
   "cell_type": "code",
   "execution_count": null,
   "id": "c9984bdd",
   "metadata": {},
   "outputs": [],
   "source": [
    "#since dictionaries are MUTABLE, you can directly change a key like this\n",
    "\n",
    "roll_no = {100: \"Hassan\", 200:\"Hamza\", 300: \"Abeer\"}\n",
    "\n",
    "roll_no[300] = \"Abdullah\"\n",
    "\n",
    "print(roll_no)"
   ]
  },
  {
   "cell_type": "code",
   "execution_count": null,
   "id": "5b9ccbc5",
   "metadata": {},
   "outputs": [],
   "source": [
    "#if you assign a value to a key that does not exist in the dictionary, it is AUTOMATICALLY ADDED TO THE DICTIONARY\n",
    "roll_no = {100: \"Hassan\", 200:\"Hamza\", 300: \"Abeer\"}\n",
    "\n",
    "roll_no[400] = \"Ahsan\"\n",
    "\n",
    "print(roll_no)"
   ]
  },
  {
   "cell_type": "code",
   "execution_count": null,
   "id": "c61260d8",
   "metadata": {},
   "outputs": [],
   "source": [
    "#Incrementing a dictionary key: way 1\n",
    "\n",
    "grades = {\"Hamza\":95, \"Hassan\":50, \"Abeer\": 89}\n",
    "grades[\"Hamza\"] = grades[\"Hamza\"] + 5\n",
    "\n",
    "print(grades[\"Hamza\"])"
   ]
  },
  {
   "cell_type": "code",
   "execution_count": null,
   "id": "1c6cf65c",
   "metadata": {},
   "outputs": [],
   "source": [
    "#Incrementing a dictionary key: way 2\n",
    "\n",
    "grades = {\"Hamza\":95, \"Hassan\":50, \"Abeer\": 89}\n",
    "grades[\"Hamza\"] += 5\n",
    "\n",
    "print(grades[\"Hamza\"])"
   ]
  },
  {
   "cell_type": "code",
   "execution_count": null,
   "id": "1798f17c",
   "metadata": {},
   "outputs": [],
   "source": [
    "grades2 = {\"Hamza\": [80, 85, 70], \"Hassan\": [80, 90, 95], \"Abeer\":[85, 80, 75]}\n",
    "\n",
    "#now grades2[\"Hamza\"] is returning a list \n",
    "#so if you need an element from the list, you need to add list indexing after fetching the key value\n",
    "grades2[\"Hassan\"][1] += 5 \n",
    "\n",
    "print(grades2)"
   ]
  },
  {
   "cell_type": "code",
   "execution_count": null,
   "id": "34b13d16",
   "metadata": {},
   "outputs": [],
   "source": [
    "#an operation like this will result in an error however\n",
    "# if the key doesn't already exist, you cannot update it\n",
    "\n",
    "roll_no = {100: \"Hassan\", 200:\"Hamza\", 300: \"Abeer\", 400: \"Ahsan\"}\n",
    "\n",
    "roll_no[600] += 5"
   ]
  },
  {
   "cell_type": "code",
   "execution_count": 24,
   "id": "4572b044",
   "metadata": {},
   "outputs": [
    {
     "name": "stdout",
     "output_type": "stream",
     "text": [
      "dict_keys(['Hamza', 'Hassan', 'Abeer'])\n",
      "dict_values([[80, 85, 70], [80, 90, 95], [85, 80, 75]])\n"
     ]
    }
   ],
   "source": [
    "grades2 = {\"Hamza\": [80, 85, 70], \"Hassan\": [80, 90, 95], \"Abeer\":[85, 80, 75]}\n",
    "\n",
    "print(grades2.keys())\n",
    "print(grades2.values())"
   ]
  },
  {
   "cell_type": "markdown",
   "id": "251c3e3b",
   "metadata": {},
   "source": [
    "### SETS\n",
    "\n",
    "- defined with curly brackets <br>\n",
    "- have no index to access items <br>\n",
    "- items are returned ordered <br>\n",
    "- cannot have duplicates <br>\n",
    "- you can add or remove items (unlike tuples and strings)"
   ]
  },
  {
   "cell_type": "code",
   "execution_count": null,
   "id": "28e6de2a",
   "metadata": {},
   "outputs": [],
   "source": [
    "a = {6,2,5,4,1,3}\n",
    "b = {5,6,7,8,4,10,21,12}\n",
    "\n",
    "print(a.intersection(b))\n",
    "print(a.union(b))"
   ]
  },
  {
   "cell_type": "code",
   "execution_count": null,
   "id": "9de2e355",
   "metadata": {},
   "outputs": [],
   "source": [
    "a = {6,2,5,4,1,3}\n",
    "a.add(10)\n",
    "a.add(-3)\n",
    "\n",
    "print(a)"
   ]
  },
  {
   "cell_type": "code",
   "execution_count": 26,
   "id": "434164e9",
   "metadata": {},
   "outputs": [
    {
     "data": {
      "text/plain": [
       "6"
      ]
     },
     "execution_count": 26,
     "metadata": {},
     "output_type": "execute_result"
    }
   ],
   "source": [
    "#find out the no of unique elements in the list\n",
    "\n",
    "my_list = [1,2,4,5,4,3,6,1,3,2]\n",
    "\n",
    "len(set(my_list))"
   ]
  },
  {
   "cell_type": "markdown",
   "id": "dbaa8480",
   "metadata": {},
   "source": [
    "### F-STRINGS"
   ]
  },
  {
   "cell_type": "code",
   "execution_count": null,
   "id": "ae62d674",
   "metadata": {},
   "outputs": [],
   "source": [
    "name = \"Mahwish\"\n",
    "cls = \"python\"\n",
    "grade = 95\n",
    "\n",
    "\n",
    "#printing without f-string\n",
    "print(name, \"got\", grade, \"marks in the quiz\")\n",
    "\n",
    "\n",
    "#printing with f-string\n",
    "print(f\"{name} got {grade} marks in the quiz for {cls} class \")"
   ]
  },
  {
   "cell_type": "code",
   "execution_count": null,
   "id": "4fb40bb8",
   "metadata": {},
   "outputs": [],
   "source": []
  }
 ],
 "metadata": {
  "kernelspec": {
   "display_name": "Python 3 (ipykernel)",
   "language": "python",
   "name": "python3"
  },
  "language_info": {
   "codemirror_mode": {
    "name": "ipython",
    "version": 3
   },
   "file_extension": ".py",
   "mimetype": "text/x-python",
   "name": "python",
   "nbconvert_exporter": "python",
   "pygments_lexer": "ipython3",
   "version": "3.9.13"
  }
 },
 "nbformat": 4,
 "nbformat_minor": 5
}

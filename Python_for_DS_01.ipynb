{
 "cells": [
  {
   "cell_type": "markdown",
   "id": "3a7f391d",
   "metadata": {},
   "source": [
    "### VARIABLE DEFINITION:"
   ]
  },
  {
   "cell_type": "code",
   "execution_count": null,
   "id": "1d6ee4d1",
   "metadata": {},
   "outputs": [],
   "source": [
    "#variable definition rules: \n",
    "#variables must only contain alphabets, numbers and underscore (_)\n",
    "#variables cannot start with a number but can start with an alphabet or an underscore\n",
    "\n",
    "#valid variable names\n",
    "my_var = 3\n",
    "_myvar = 6\n",
    "my_var23 = 7\n",
    "my23var = 10\n",
    "\n",
    "\n",
    "#invalid variable names\n",
    "2my_var = 8\n",
    "my_var@ = 9\n"
   ]
  },
  {
   "cell_type": "code",
   "execution_count": null,
   "id": "6174d4a6",
   "metadata": {},
   "outputs": [],
   "source": [
    "#variables can also be assigned in a single line separated by a comma as follows. \n",
    "#this is the same as doing:\n",
    "# x = 10\n",
    "# y = \"python\"\n",
    "# z = 30\n",
    "\n",
    "\n",
    "x, y, z = 10, \"python\", 30\n",
    "\n",
    "print(x)\n",
    "print(y)\n",
    "print(z)"
   ]
  },
  {
   "cell_type": "code",
   "execution_count": null,
   "id": "ee45b45a",
   "metadata": {},
   "outputs": [],
   "source": [
    "#giving the print function multiple arguments separated by a comma will print all on the same line \n",
    "\n",
    "print(x, y, z) \n",
    "print(5, 10, 15)"
   ]
  },
  {
   "cell_type": "markdown",
   "id": "cddafc28",
   "metadata": {},
   "source": [
    "### DIFFERENT DATA TYPES:"
   ]
  },
  {
   "cell_type": "code",
   "execution_count": null,
   "id": "22337659",
   "metadata": {},
   "outputs": [],
   "source": [
    "a = 5\n",
    "b = 'this is a python class'\n",
    "c = 3.14\n",
    "d = True\n",
    "\n",
    "print(a)\n",
    "print(b)\n",
    "print(c)\n",
    "print(d)"
   ]
  },
  {
   "cell_type": "code",
   "execution_count": null,
   "id": "c472d33f",
   "metadata": {},
   "outputs": [],
   "source": [
    "e = [5, \"python\", True, 10, 4.56]\n",
    "f = (5, \"class\", False)\n",
    "g = {\"Abdullah\": 'Blue', \"Huzaifa\": 95}\n",
    "h = {5, 7, 8, 9}\n",
    "\n",
    "print(e)\n",
    "print(f)\n",
    "print(g)\n",
    "print(h)"
   ]
  },
  {
   "cell_type": "code",
   "execution_count": null,
   "id": "05fa888a",
   "metadata": {},
   "outputs": [],
   "source": [
    "# you can use the type() function to find out the type of an object or a variable storing an object\n",
    "\n",
    "print(type(a))\n",
    "print(type(b))\n",
    "print(type(c))\n",
    "print(type(d))\n",
    "print(type(e))\n",
    "print(type(f))\n",
    "print(type(g))\n",
    "print(type(h))"
   ]
  },
  {
   "cell_type": "markdown",
   "id": "4a460e09",
   "metadata": {},
   "source": [
    "### DATA-TYPE CONVERSION WITH SOME EXAMPLES"
   ]
  },
  {
   "cell_type": "code",
   "execution_count": null,
   "id": "98036df2",
   "metadata": {},
   "outputs": [],
   "source": [
    "#the datatypes studied above also exist as functions. You can use these to convert datatypes where conversion is possible:\n",
    "int()\n",
    "float()\n",
    "str()\n",
    "bool()\n",
    "list()\n",
    "tuple()\n",
    "dict()\n",
    "set()\n"
   ]
  },
  {
   "cell_type": "code",
   "execution_count": null,
   "id": "38957c30",
   "metadata": {},
   "outputs": [],
   "source": [
    "#these operations would fail unless you do type conversion\n",
    "\n",
    "print(60 + int(\"100\"))\n",
    "print(54 + float(\"3.14\"))\n",
    "print(\"xbox\" + str(360))"
   ]
  },
  {
   "cell_type": "code",
   "execution_count": null,
   "id": "83f9416c",
   "metadata": {},
   "outputs": [],
   "source": [
    "x = 5\n",
    "y = \"100\"\n",
    "\n",
    "print(x > int(y)) #comparison after type conversion works\n",
    "\n",
    "print(x > y) #comparison without type conversion raises an error, because int cannot be compared to str. "
   ]
  },
  {
   "cell_type": "code",
   "execution_count": null,
   "id": "4bdc6b9e",
   "metadata": {},
   "outputs": [],
   "source": [
    "#converting int to str\n",
    "\n",
    "num = 10000\n",
    "num_str = str(num) #here i have created a new variable num_str and am storing the result of str(num) in it\n",
    "\n",
    "\n",
    "print(\"type of num is\", type(num))\n",
    "print(\"type of str_num is\", type(num_str))"
   ]
  },
  {
   "cell_type": "code",
   "execution_count": null,
   "id": "a57e683b",
   "metadata": {},
   "outputs": [],
   "source": [
    "#converting str to float \n",
    "\n",
    "my_str = \"10000.89\"\n",
    "str_to_float = float(my_str)\n",
    "\n",
    "\n",
    "print(\"type of my_str is\", type(my_str))\n",
    "print(\"type of str_to_float is\", type(str_to_float))\n"
   ]
  },
  {
   "cell_type": "code",
   "execution_count": null,
   "id": "5fb5f030",
   "metadata": {},
   "outputs": [],
   "source": [
    "#0 or empty string or empty list evaluate to false. 1 or non-empty strings or non-empty lists evaluate to true\n",
    "\n",
    "print(bool(0)) #int to bool\n",
    "print(bool(78.67)) #float to bool\n",
    "print(bool(\"My name is Maham\")) #str to bool\n",
    "print(bool(\"\")) #str to bool"
   ]
  },
  {
   "cell_type": "markdown",
   "id": "90525012",
   "metadata": {},
   "source": [
    "### ARITHMETIC OPERATORS"
   ]
  },
  {
   "cell_type": "code",
   "execution_count": null,
   "id": "5215a171",
   "metadata": {},
   "outputs": [],
   "source": [
    "print(12 + 10) #addition\n",
    "print(2 * 8) #multiplication\n",
    "print(22 - 10) #subtraction\n",
    "print(8 ** 2) #exponentiation\n",
    "print(49 % 10) #modulo operator (returns remainder after dividing left value by right value)\n",
    "print (104//5) #floor division (round down to nearest whole number)"
   ]
  },
  {
   "cell_type": "code",
   "execution_count": null,
   "id": "6e43b4ac",
   "metadata": {},
   "outputs": [],
   "source": [
    "#same operations but this time with variable names instead of direct numbers\n",
    "\n",
    "x = 5\n",
    "y = 10\n",
    "\n",
    "\n",
    "print(x + y)\n",
    "print(x - y)\n",
    "print(x / y)\n",
    "print(x * y)\n",
    "print(y ** x)\n",
    "print(y % x)\n",
    "print(y // x)"
   ]
  },
  {
   "cell_type": "markdown",
   "id": "8aee74bf",
   "metadata": {},
   "source": [
    "### COMPARISON OPERATORS"
   ]
  },
  {
   "cell_type": "code",
   "execution_count": null,
   "id": "a0980861",
   "metadata": {},
   "outputs": [],
   "source": [
    "print(15 < 7) #less than\n",
    "print(20 > 17) #greater than\n",
    "print(22 >= 23) #greater than or equal to\n",
    "print(26 <= 26) #less than or equal to\n",
    "print(22 == 5) #equal to\n",
    "print(22 != 25) #not equal to "
   ]
  },
  {
   "cell_type": "code",
   "execution_count": null,
   "id": "13feac3b",
   "metadata": {},
   "outputs": [],
   "source": [
    "x = 5\n",
    "y = 10\n",
    "\n",
    "\n",
    "print(x > y)\n",
    "print(x < y)\n",
    "print(x >= y)\n",
    "print(x <= y)\n",
    "print(x == y)\n",
    "print(x != y)"
   ]
  },
  {
   "cell_type": "markdown",
   "id": "8b9f7b0e",
   "metadata": {},
   "source": [
    "### LOGICAL OPERATORS"
   ]
  },
  {
   "cell_type": "code",
   "execution_count": null,
   "id": "26f7a6e4",
   "metadata": {},
   "outputs": [],
   "source": [
    "# logical operators in python are and, or and not\n",
    "\n",
    "my_number = 10\n",
    "\n",
    "print(my_number > 11 and my_number < 12) #and returns True only if BOTH conditions are true\n",
    "print(my_number > 11 or my_number < 12) #or returns True even if only one of the conditions is true\n",
    "print(not my_number > 11 and my_number < 12) #not negates the boolean. turns true to false and vice versa"
   ]
  },
  {
   "cell_type": "code",
   "execution_count": null,
   "id": "56706c70",
   "metadata": {},
   "outputs": [],
   "source": [
    "x = 5\n",
    "y = 10\n",
    "\n",
    "print(x < y and x != 5)\n",
    "print(x > y or x==y)\n",
    "print(x > y or x < 100)\n",
    "print(x > y or not x < 100) #nearly same as above but here first statement is false and second statement also becomes false because of a not"
   ]
  }
 ],
 "metadata": {
  "kernelspec": {
   "display_name": "Python 3 (ipykernel)",
   "language": "python",
   "name": "python3"
  },
  "language_info": {
   "codemirror_mode": {
    "name": "ipython",
    "version": 3
   },
   "file_extension": ".py",
   "mimetype": "text/x-python",
   "name": "python",
   "nbconvert_exporter": "python",
   "pygments_lexer": "ipython3",
   "version": "3.9.13"
  }
 },
 "nbformat": 4,
 "nbformat_minor": 5
}

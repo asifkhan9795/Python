{
 "cells": [
  {
   "cell_type": "code",
   "execution_count": 1,
   "id": "c3123b83",
   "metadata": {
    "_cell_guid": "b1076dfc-b9ad-4769-8c92-a6c4dae69d19",
    "_uuid": "8f2839f25d086af736a60e9eeb907d3b93b6e0e5",
    "execution": {
     "iopub.execute_input": "2024-08-28T18:32:19.185240Z",
     "iopub.status.busy": "2024-08-28T18:32:19.183978Z",
     "iopub.status.idle": "2024-08-28T18:32:19.657100Z",
     "shell.execute_reply": "2024-08-28T18:32:19.655779Z"
    },
    "papermill": {
     "duration": 0.481236,
     "end_time": "2024-08-28T18:32:19.659832",
     "exception": false,
     "start_time": "2024-08-28T18:32:19.178596",
     "status": "completed"
    },
    "tags": []
   },
   "outputs": [
    {
     "name": "stdout",
     "output_type": "stream",
     "text": [
      "/kaggle/input/heart-patients-dataset/heart patients dataset.csv\n"
     ]
    }
   ],
   "source": [
    "# This Python 3 environment comes with many helpful analytics libraries installed\n",
    "# It is defined by the kaggle/python Docker image: https://github.com/kaggle/docker-python\n",
    "# For example, here's several helpful packages to load\n",
    "\n",
    "import numpy as np # linear algebra\n",
    "import pandas as pd # data processing, CSV file I/O (e.g. pd.read_csv)\n",
    "\n",
    "# Input data files are available in the read-only \"../input/\" directory\n",
    "# For example, running this (by clicking run or pressing Shift+Enter) will list all files under the input directory\n",
    "\n",
    "import os\n",
    "for dirname, _, filenames in os.walk('/kaggle/input'):\n",
    "    for filename in filenames:\n",
    "        print(os.path.join(dirname, filename))\n",
    "\n",
    "# You can write up to 20GB to the current directory (/kaggle/working/) that gets preserved as output when you create a version using \"Save & Run All\" \n",
    "# You can also write temporary files to /kaggle/temp/, but they won't be saved outside of the current session"
   ]
  },
  {
   "cell_type": "code",
   "execution_count": 2,
   "id": "ab1ea1a2",
   "metadata": {
    "execution": {
     "iopub.execute_input": "2024-08-28T18:32:19.667874Z",
     "iopub.status.busy": "2024-08-28T18:32:19.667292Z",
     "iopub.status.idle": "2024-08-28T18:32:19.673203Z",
     "shell.execute_reply": "2024-08-28T18:32:19.671769Z"
    },
    "papermill": {
     "duration": 0.012923,
     "end_time": "2024-08-28T18:32:19.675906",
     "exception": false,
     "start_time": "2024-08-28T18:32:19.662983",
     "status": "completed"
    },
    "tags": []
   },
   "outputs": [],
   "source": [
    "import pandas as pd"
   ]
  },
  {
   "cell_type": "code",
   "execution_count": 3,
   "id": "c1eab4d3",
   "metadata": {
    "execution": {
     "iopub.execute_input": "2024-08-28T18:32:19.683234Z",
     "iopub.status.busy": "2024-08-28T18:32:19.682817Z",
     "iopub.status.idle": "2024-08-28T18:32:19.710191Z",
     "shell.execute_reply": "2024-08-28T18:32:19.708987Z"
    },
    "papermill": {
     "duration": 0.034076,
     "end_time": "2024-08-28T18:32:19.712913",
     "exception": false,
     "start_time": "2024-08-28T18:32:19.678837",
     "status": "completed"
    },
    "tags": []
   },
   "outputs": [],
   "source": [
    "dataset = pd.read_csv(\"/kaggle/input/heart-patients-dataset/heart patients dataset.csv\")"
   ]
  },
  {
   "cell_type": "markdown",
   "id": "5326c806",
   "metadata": {
    "papermill": {
     "duration": 0.002506,
     "end_time": "2024-08-28T18:32:19.718327",
     "exception": false,
     "start_time": "2024-08-28T18:32:19.715821",
     "status": "completed"
    },
    "tags": []
   },
   "source": [
    "2. **.loc[ ] - Label based data selecting method**\n",
    "1. **.iloc[ ] - Index based data selecting method**"
   ]
  },
  {
   "cell_type": "code",
   "execution_count": null,
   "id": "c88b8742",
   "metadata": {
    "papermill": {
     "duration": 0.002896,
     "end_time": "2024-08-28T18:32:19.724034",
     "exception": false,
     "start_time": "2024-08-28T18:32:19.721138",
     "status": "completed"
    },
    "tags": []
   },
   "outputs": [],
   "source": []
  }
 ],
 "metadata": {
  "kaggle": {
   "accelerator": "none",
   "dataSources": [
    {
     "datasetId": 5525649,
     "sourceId": 9147883,
     "sourceType": "datasetVersion"
    }
   ],
   "dockerImageVersionId": 30761,
   "isGpuEnabled": false,
   "isInternetEnabled": true,
   "language": "python",
   "sourceType": "notebook"
  },
  "kernelspec": {
   "display_name": "Python 3",
   "language": "python",
   "name": "python3"
  },
  "language_info": {
   "codemirror_mode": {
    "name": "ipython",
    "version": 3
   },
   "file_extension": ".py",
   "mimetype": "text/x-python",
   "name": "python",
   "nbconvert_exporter": "python",
   "pygments_lexer": "ipython3",
   "version": "3.10.14"
  },
  "papermill": {
   "default_parameters": {},
   "duration": 4.122739,
   "end_time": "2024-08-28T18:32:20.248264",
   "environment_variables": {},
   "exception": null,
   "input_path": "__notebook__.ipynb",
   "output_path": "__notebook__.ipynb",
   "parameters": {},
   "start_time": "2024-08-28T18:32:16.125525",
   "version": "2.6.0"
  }
 },
 "nbformat": 4,
 "nbformat_minor": 5
}

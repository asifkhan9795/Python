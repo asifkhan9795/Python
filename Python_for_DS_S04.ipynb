{
 "cells": [
  {
   "cell_type": "markdown",
   "id": "8ee0a5fa",
   "metadata": {},
   "source": [
    "#### FOR LOOP EXAMPLE"
   ]
  },
  {
   "cell_type": "code",
   "execution_count": null,
   "id": "4816b88b",
   "metadata": {},
   "outputs": [],
   "source": [
    "fruits = [\"mango\", \"apple\", \"banana\", \"watermelon\"]\n",
    "\n",
    "for num in range(len(fruits)):\n",
    "    \n",
    "    fruits[num] = fruits[num].capitalize()\n",
    "    \n",
    "print(fruits)"
   ]
  },
  {
   "cell_type": "markdown",
   "id": "fe72a5ad",
   "metadata": {},
   "source": [
    "## FUNCTIONS"
   ]
  },
  {
   "cell_type": "markdown",
   "id": "e2c37030",
   "metadata": {},
   "source": [
    "### DEFINING A SIMPLE SUM FUNCTION"
   ]
  },
  {
   "cell_type": "code",
   "execution_count": null,
   "id": "8211c333",
   "metadata": {},
   "outputs": [],
   "source": [
    "#A simple function to sum up 2 numbers\n",
    "\n",
    "def my_sum(num1, num2):\n",
    "    \n",
    "    total = num1 + num2\n",
    "    \n",
    "    return total \n",
    "    \n",
    "    \n",
    "print(my_sum(10, 35))    "
   ]
  },
  {
   "cell_type": "markdown",
   "id": "30883b84",
   "metadata": {},
   "source": [
    "### POSITIONAL ARGUMENTS"
   ]
  },
  {
   "cell_type": "code",
   "execution_count": null,
   "id": "ed36f9ef",
   "metadata": {},
   "outputs": [],
   "source": [
    "def my_diff(num1, num2):\n",
    "    \n",
    "    total = num1 - num2\n",
    "    \n",
    "    return total \n",
    "    \n",
    " \n",
    "print(my_diff(35, 10))\n",
    "print(my_diff(10, 35))  #positional order of arguments matters\n",
    "print(my_diff(num2 = 10, num1 = 35)) #here positional order doesn't matter because you specifically set the value of each argument"
   ]
  },
  {
   "cell_type": "code",
   "execution_count": null,
   "id": "169df045",
   "metadata": {},
   "outputs": [],
   "source": [
    "def name(firstname, lastname):\n",
    "    \n",
    "    print(f\"Hello! My name is {firstname} {lastname}\")\n",
    "    \n",
    "name(\"Babar\", \"Azam\")\n",
    "name(\"Azam\", \"Babar\")\n",
    "name(lastname = \"Azam\", firstname = \"Babar\")"
   ]
  },
  {
   "cell_type": "markdown",
   "id": "e4249cb4",
   "metadata": {},
   "source": [
    "### DIFFERENCE BETWEEN PRINT AND RETURN:\n",
    "\n",
    "##### Print\n",
    "1) Print inside a function will simply print a result to the output. \n",
    "\n",
    "2) You don't need to use print() with your function while calling it if its output is a print object \n",
    "\n",
    "3) With print, you do not get back an object you can make use of for e.g. do string/arithmetic/list etc operations on it\n",
    "\n",
    "##### Return\n",
    "1) return will RETURN an object back to you such as an str, int, float, dict, list etc\n",
    "\n",
    "2) You use a print statement to print the results of a function that uses return\n",
    "\n",
    "3) After calling a function, this return object can be stored inside a variable and used\n",
    "\n"
   ]
  },
  {
   "cell_type": "markdown",
   "id": "69b6a7d1",
   "metadata": {},
   "source": [
    "### DEFAULT ARGUMENTS"
   ]
  },
  {
   "cell_type": "code",
   "execution_count": null,
   "id": "b366c725",
   "metadata": {},
   "outputs": [],
   "source": [
    "def my_sum(num1=0, num2=0, num3=0):\n",
    "    \n",
    "    total = num1 + num2 + num3\n",
    "    \n",
    "    return total \n",
    " \n",
    "print(my_sum(4,5,8))\n",
    "print(my_sum(-300,9,25))\n",
    "print(my_sum()) #this works because we defined default values"
   ]
  },
  {
   "cell_type": "markdown",
   "id": "609a06c8",
   "metadata": {},
   "source": [
    "### THREE STRATEGIES FOR WRITING my_sum():\n",
    "\n",
    "1) Passing two arguments to our my_sum1 function in our definition\n",
    "\n",
    "2) Passing multiple numbers to our sum function via ONE argument (a list or tuple)\n",
    "\n",
    "3) Using *ARGS to pass multiple arguments to a function:\n",
    "\n"
   ]
  },
  {
   "cell_type": "markdown",
   "id": "980694a8",
   "metadata": {},
   "source": [
    "#### Passing two arguments to our my_sum1 function in our definition"
   ]
  },
  {
   "cell_type": "code",
   "execution_count": null,
   "id": "6eb2d92c",
   "metadata": {},
   "outputs": [],
   "source": [
    "def my_sum(num1, num2):\n",
    "    \n",
    "    return num1 + num2\n",
    "    \n",
    "\n",
    "print(my_sum(10, 40))  \n",
    "print(my_sum(5, 8))\n",
    "print(my_sum(5, 8, 9)) #first two lines print fine but this one throws error with 3 arguments"
   ]
  },
  {
   "cell_type": "markdown",
   "id": "0fdd1fae",
   "metadata": {},
   "source": [
    "#### Passing multiple numbers to our sum function via ONE argument (a list in this case)"
   ]
  },
  {
   "cell_type": "code",
   "execution_count": null,
   "id": "bb617860",
   "metadata": {},
   "outputs": [],
   "source": [
    "def my_sum2(my_list):\n",
    "    \n",
    "    total = 0\n",
    "    \n",
    "    for i in my_list:\n",
    "        \n",
    "        total += i\n",
    "        \n",
    "    return total\n",
    "    "
   ]
  },
  {
   "cell_type": "code",
   "execution_count": null,
   "id": "69e8312e",
   "metadata": {},
   "outputs": [],
   "source": [
    "lst = [1,2,3,4,5]\n",
    "\n",
    "\n",
    "print(my_sum2(lst))\n",
    "print(my_sum2([30,10,24]))\n"
   ]
  },
  {
   "cell_type": "code",
   "execution_count": null,
   "id": "5d92ff31",
   "metadata": {},
   "outputs": [],
   "source": [
    "#throws error because the code inside the function is designed for a list, not an int. \n",
    "#the for loop inside the function will throw an error because it gets an int instead of an iterable\n",
    "\n",
    "print(my_sum2(30)) \n"
   ]
  },
  {
   "cell_type": "code",
   "execution_count": null,
   "id": "b8f86d01",
   "metadata": {},
   "outputs": [],
   "source": [
    "#BUT NOTE that this function will work even for a tuple instead of a list \n",
    "#this is because the for loop inside the function will run on a tuple too\n",
    "\n",
    "print(my_sum2((30,10,24))) \n"
   ]
  },
  {
   "cell_type": "markdown",
   "id": "ea608278",
   "metadata": {},
   "source": [
    "#### Using *ARGS to pass multiple arguments to a function:"
   ]
  },
  {
   "cell_type": "code",
   "execution_count": null,
   "id": "539c22e7",
   "metadata": {},
   "outputs": [],
   "source": [
    "def my_sum3(*args):\n",
    "    \n",
    "    total = 0\n",
    "    \n",
    "    for i in args:\n",
    "        \n",
    "        total += i\n",
    "        \n",
    "    return total\n",
    "    \n"
   ]
  },
  {
   "cell_type": "code",
   "execution_count": null,
   "id": "b61cae87",
   "metadata": {},
   "outputs": [],
   "source": [
    "print(my_sum3(4,5,6,7,8,9,0))\n",
    "print(my_sum3(4,8,9))\n",
    "print(my_sum3(4,5,6,7,8))\n",
    "print(my_sum3(4))\n",
    "print(my_sum3())"
   ]
  },
  {
   "cell_type": "markdown",
   "id": "f3fd5b7f",
   "metadata": {},
   "source": [
    "### **KWARGS\n",
    "\n",
    "KWARGS are like ARGS but for keyword arguments"
   ]
  },
  {
   "cell_type": "code",
   "execution_count": null,
   "id": "78ddf36b",
   "metadata": {},
   "outputs": [],
   "source": [
    "def force(**kwargs):\n",
    "    \n",
    "    force = kwargs['mass'] * kwargs['acceleration']\n",
    "    \n",
    "    return force\n",
    "\n",
    "\n"
   ]
  },
  {
   "cell_type": "code",
   "execution_count": null,
   "id": "14d03649",
   "metadata": {},
   "outputs": [],
   "source": [
    "force(mass = 40, acceleration = 10)"
   ]
  },
  {
   "cell_type": "markdown",
   "id": "5664f042",
   "metadata": {},
   "source": [
    "### MAP\n",
    "\n",
    "- maps a function to each item of an iterable"
   ]
  },
  {
   "cell_type": "code",
   "execution_count": null,
   "id": "3b8dfb6e",
   "metadata": {},
   "outputs": [],
   "source": [
    "list1 = [[1,2,3], [4,5,6], [7,8,9]]\n",
    "\n",
    "list(map(sum, list1)) #we put the map object inside the list function to see what is contained inside it"
   ]
  },
  {
   "cell_type": "code",
   "execution_count": null,
   "id": "0d53383d",
   "metadata": {},
   "outputs": [],
   "source": [
    "tup = (\"a\", \"b\", \"c\")\n",
    "\n",
    "list(map(str.upper, tup))\n",
    "\n",
    "list(map(str.upper, tup)) #with dot methods, you need to add the class name first like list.append(), str.upper() etc"
   ]
  },
  {
   "cell_type": "markdown",
   "id": "0a4750bb",
   "metadata": {},
   "source": [
    "### LAMBDA\n",
    "\n",
    "- lambda functions are short, one-line, anonymous functions"
   ]
  },
  {
   "cell_type": "code",
   "execution_count": null,
   "id": "978a142b",
   "metadata": {},
   "outputs": [],
   "source": [
    "# def function vs lambda function\n",
    "\n",
    "#using def\n",
    "\n",
    "def cube(y):\n",
    "    \n",
    "    return y**3\n"
   ]
  },
  {
   "cell_type": "code",
   "execution_count": null,
   "id": "e4110eca",
   "metadata": {},
   "outputs": [],
   "source": [
    "#using lambda\n",
    "\n",
    "cube = lambda y: y**3\n",
    "\n",
    "print(cube(2))\n",
    "print(cube(3))\n",
    "print(cube(4))"
   ]
  },
  {
   "cell_type": "code",
   "execution_count": null,
   "id": "0261a225",
   "metadata": {},
   "outputs": [],
   "source": [
    "#here i am directly applying a lamda function to a list using map, without storing the lambda function in a variable\n",
    "#the function simply lasts for the duration of this one operation\n",
    "#this is how lambda functions can be used anonymously without having to define a whole function using def\n",
    "\n",
    "lst = [1,2,3,4]\n",
    "\n",
    "list(map(lambda y: y**3, lst))"
   ]
  },
  {
   "cell_type": "markdown",
   "id": "93fe00f1",
   "metadata": {},
   "source": [
    "### LIST/DICTIONARY COMPREHENSIONS\n",
    "\n",
    "- short one line for loops to generate lists/dictionaries"
   ]
  },
  {
   "cell_type": "code",
   "execution_count": null,
   "id": "1b5b9834",
   "metadata": {},
   "outputs": [],
   "source": [
    "lst1 = [1,2,3,4]\n",
    "lst2 = [i**2 for i in lst1]\n",
    "\n",
    "print(lst2)"
   ]
  },
  {
   "cell_type": "code",
   "execution_count": null,
   "id": "2c23e263",
   "metadata": {},
   "outputs": [],
   "source": [
    "#each letter of python will become key and its uppercase will become value\n",
    "\n",
    "{i:i.upper() for i in \"python\"}"
   ]
  },
  {
   "cell_type": "code",
   "execution_count": null,
   "id": "dd2768fa",
   "metadata": {},
   "outputs": [],
   "source": [
    "#using if in list comprehension\n",
    "\n",
    "[x for x in \"python\" if x != \"p\" ]"
   ]
  },
  {
   "cell_type": "code",
   "execution_count": null,
   "id": "1358fc91",
   "metadata": {},
   "outputs": [],
   "source": [
    "#using if and else in list comprehension\n",
    "\n",
    "[x if x != \"p\" else \"M\" for x in \"python\"]"
   ]
  },
  {
   "cell_type": "code",
   "execution_count": null,
   "id": "2fe3b822",
   "metadata": {},
   "outputs": [],
   "source": [
    "#using map vs list comprehension to do the same thing\n",
    "\n",
    "list1 = [[1,2,3], [4,5,6], [7,8,9]]\n",
    "\n",
    "sums1 = list(map(sum, list1))\n",
    "sums2 = [sum(i) for i in list1]\n",
    "\n",
    "\n",
    "print(sums1)\n",
    "print(sums2)"
   ]
  },
  {
   "cell_type": "code",
   "execution_count": null,
   "id": "9e5c403f",
   "metadata": {},
   "outputs": [],
   "source": [
    "#two ways to combine lst1 and lst2 into a single dictionary using list comprehension. \n",
    "#dict1 is using indexing. \n",
    "#dict2 is using the zip function\n",
    "\n",
    "lst1 = [1,2,3,4]\n",
    "lst2 = [\"a\", \"b\", \"c\", \"d\"]\n",
    "\n",
    "dict1 = {lst1[i]:lst2[i] for i in range(len(lst1))}\n",
    "dict2 = {i:j for (i,j) in zip(lst1,lst2)}\n",
    "\n",
    "print(dict1)\n",
    "print(dict2)"
   ]
  },
  {
   "cell_type": "markdown",
   "id": "399bfc76",
   "metadata": {},
   "source": [
    "### EXCEPTIONS\n",
    "\n",
    "There is one try block <br>\n",
    "You can several except blocks with specific exceptions to tell python what to do in case each of those errors arise <br>\n",
    "You can tell python what to do in case an exception isn't raised using else <br>\n",
    "You can also add a finally block which executes regardless of what happens in the try/except/else block "
   ]
  },
  {
   "cell_type": "code",
   "execution_count": null,
   "id": "0f251c13",
   "metadata": {},
   "outputs": [],
   "source": [
    "try:\n",
    "    \n",
    "    var1 = 5\n",
    "    var2 = 0\n",
    "    \n",
    "    var3 = var1/var2\n",
    "    \n",
    "except Exception:\n",
    "    \n",
    "    var2 += 1\n",
    "    print(\"not possible to divide by zero\")\n",
    "    \n",
    "else:\n",
    "    \n",
    "    print(\"done\")\n",
    "    \n",
    "finally:\n",
    "    \n",
    "    print(\"this is the finally statement\")\n",
    "    "
   ]
  },
  {
   "cell_type": "code",
   "execution_count": null,
   "id": "3cfb0b91",
   "metadata": {},
   "outputs": [],
   "source": [
    "print(var2) #var2 went from 0 to 1 because of the execution of the exception block"
   ]
  },
  {
   "cell_type": "code",
   "execution_count": null,
   "id": "d307ce5c",
   "metadata": {},
   "outputs": [],
   "source": [
    "my_list = [1,2,3,4,\"a\"]\n",
    "\n",
    "try:\n",
    "    \n",
    "    my_list[4] += 5\n",
    "    \n",
    "except IndexError:\n",
    "    \n",
    "    print(\"index is not in range\")\n",
    "    \n",
    "except TypeError:\n",
    "    \n",
    "    print(\"incompatible types for operation\")\n",
    "    \n",
    "else:\n",
    "    \n",
    "    print(\"no errors\")\n",
    "    \n",
    "finally:\n",
    "    \n",
    "    print(\"all done!\")"
   ]
  },
  {
   "cell_type": "markdown",
   "id": "82fa5225",
   "metadata": {},
   "source": [
    "### AN EXAMPLE OF USING A CONDITIONAL (IF) TO HANDLE AN ERROR INSIDE A FUNCTION\n",
    "This function is taking one argument and returns even/odd based on the number we give it while calling on it"
   ]
  },
  {
   "cell_type": "code",
   "execution_count": null,
   "id": "c20b0c7d",
   "metadata": {},
   "outputs": [],
   "source": [
    "def is_even(num):\n",
    "    \n",
    "    if num % 2 == 0:\n",
    "        print(\"number is even\")\n",
    "        \n",
    "    else:\n",
    "        print(\"number is not even\")\n",
    "        \n"
   ]
  },
  {
   "cell_type": "code",
   "execution_count": null,
   "id": "1c347c2e",
   "metadata": {},
   "outputs": [],
   "source": [
    "is_even(-7)\n",
    "is_even(-10)\n",
    "is_even(24)\n",
    "is_even(331)\n",
    "is_even(\"B\") #this function will throw an error with non numeric values"
   ]
  },
  {
   "cell_type": "markdown",
   "id": "e874bdd8",
   "metadata": {},
   "source": [
    "#### You can make the above function better by first checking if the argument we give it is an integer and to return \"not integer\" if it is not"
   ]
  },
  {
   "cell_type": "code",
   "execution_count": null,
   "id": "b73cb3f7",
   "metadata": {},
   "outputs": [],
   "source": [
    "def is_even(num):\n",
    "    \n",
    "    if type(num) != int:\n",
    "        print(\"Not an integer\")\n",
    "    \n",
    "    elif num % 2 == 0:\n",
    "        print(\"number is even\")\n",
    "        \n",
    "    else:\n",
    "        print(\"number is not even\")\n",
    "        "
   ]
  },
  {
   "cell_type": "code",
   "execution_count": null,
   "id": "a893b78e",
   "metadata": {},
   "outputs": [],
   "source": [
    "is_even(-7)\n",
    "is_even(\"b\") #no error\n",
    "is_even(24)\n",
    "is_even(478.34)\n",
    "is_even([2,3,4])"
   ]
  },
  {
   "cell_type": "code",
   "execution_count": null,
   "id": "3340ddca",
   "metadata": {},
   "outputs": [],
   "source": []
  }
 ],
 "metadata": {
  "kernelspec": {
   "display_name": "Python 3 (ipykernel)",
   "language": "python",
   "name": "python3"
  },
  "language_info": {
   "codemirror_mode": {
    "name": "ipython",
    "version": 3
   },
   "file_extension": ".py",
   "mimetype": "text/x-python",
   "name": "python",
   "nbconvert_exporter": "python",
   "pygments_lexer": "ipython3",
   "version": "3.9.13"
  }
 },
 "nbformat": 4,
 "nbformat_minor": 5
}

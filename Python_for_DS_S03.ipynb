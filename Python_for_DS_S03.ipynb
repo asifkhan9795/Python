{
 "cells": [
  {
   "cell_type": "markdown",
   "id": "c9a6d60a",
   "metadata": {},
   "source": [
    "### MAKING A COPY OF A LIST OR DICTIONARY\n",
    "- use lst.copy() if you set one list equal to another. otherwise, instead of a copy, a pointer to the original list will be made and all changes will be reflected in it"
   ]
  },
  {
   "cell_type": "code",
   "execution_count": null,
   "id": "03f8ee1e",
   "metadata": {},
   "outputs": [],
   "source": [
    "#without .copy()\n",
    "\n",
    "a = [1,2,3,4,5]\n",
    "b = a\n",
    "\n",
    "b.append(\"A\")\n",
    "print(a)\n",
    "print(b)"
   ]
  },
  {
   "cell_type": "code",
   "execution_count": null,
   "id": "c50f67ab",
   "metadata": {},
   "outputs": [],
   "source": [
    "#with .copy()\n",
    "\n",
    "a = [1,2,3,4,5]\n",
    "b = a.copy()\n",
    "\n",
    "b.append(\"A\")\n",
    "print(a)\n",
    "print(b)"
   ]
  },
  {
   "cell_type": "markdown",
   "id": "9379d57e",
   "metadata": {},
   "source": [
    "### if, elif, else\n",
    "\n",
    "if statement is the first check. If it evaluates to true, only the code under it will be executed and the remaining elif and else statements will be passed. \n",
    "\n",
    "in case the if statement evaluates to false, the indented code under it will be skipped and will jump to the next elif \n",
    "\n",
    "if that elif fails, then it skips the code under it and goes to next elif. and so on until else. \n",
    "\n",
    "At any point, if any elif evaluates to true, the next elifs and else will be skipped entirely\n"
   ]
  },
  {
   "cell_type": "code",
   "execution_count": null,
   "id": "d375b7d1",
   "metadata": {},
   "outputs": [],
   "source": [
    "#adding only one if check\n",
    "\n",
    "num = -9\n",
    "\n",
    "if num < 0: \n",
    "    print(\"num is negative\")\n",
    "    "
   ]
  },
  {
   "cell_type": "code",
   "execution_count": null,
   "id": "51f15595",
   "metadata": {},
   "outputs": [],
   "source": [
    "num = 10\n",
    "\n",
    "if num%2 == 0:\n",
    "    print(\"num is even\")\n",
    "    \n",
    "else:\n",
    "    print(\"num not even\")"
   ]
  },
  {
   "cell_type": "code",
   "execution_count": null,
   "id": "043c4516",
   "metadata": {},
   "outputs": [],
   "source": [
    "num = 0\n",
    "\n",
    "if num < 0:\n",
    "    print(\"num is negative\")\n",
    "    \n",
    "elif num > 0:\n",
    "    print(\"num is positive\")\n",
    "    \n",
    "else:\n",
    "    print(\"num is zero\")"
   ]
  },
  {
   "cell_type": "code",
   "execution_count": null,
   "id": "ed158adc",
   "metadata": {},
   "outputs": [],
   "source": [
    "# nested if\n",
    "\n",
    "x= 20\n",
    "y= 10\n",
    "\n",
    "if x > y:\n",
    "    \n",
    "    print(\"x is greater than y\")\n",
    "    \n",
    "    if x % 10 == 0:\n",
    "        print(\"x is also a multiple of 10\")\n",
    "        \n",
    "else:\n",
    "    print(\"x is not greater than y\")"
   ]
  },
  {
   "cell_type": "markdown",
   "id": "c63518ba",
   "metadata": {},
   "source": [
    "### if, elif, else cont...\n",
    "\n",
    "if statement is the first check. If it evaluates to true, only the indented code under it will be executed and the remaining elif and else statements will be passed. \n",
    "\n",
    "in case the if statement evaluates to false, the indented code under it will be skipped and will jump to the next elif \n",
    "\n",
    "if that elif fails, then it skips the code under it and goes to next elif. and so on until else. \n",
    "\n",
    "At any point, if any elif evaluates to true, the next elifs and else will be skipped entirely\n",
    "\n",
    "HENCE, ORDER OF CONDITION CHECKS MATTERS!"
   ]
  },
  {
   "cell_type": "code",
   "execution_count": null,
   "id": "99125aa0",
   "metadata": {},
   "outputs": [],
   "source": [
    "# Your order of statements in if/elif matters. \n",
    "# Wrong order results in the first statement being evaluated to true, \n",
    "# but a more accurate condition is overlooked because it was wrongly placed further down:\n",
    "\n",
    "num = 6\n",
    "\n",
    "if num % 2 == 0:\n",
    "    print(\"num is divisible by 2\")\n",
    "    \n",
    "elif num % 2 == 0 and num % 3 == 0:\n",
    "    print(\"num is divisible by both 2 and 3\")\n",
    "\n",
    "elif num % 3 == 0:\n",
    "    print(\"num is divisible by 3\")\n",
    "    \n",
    "else:\n",
    "    print(\"num not divisible by 2 or 3\")"
   ]
  },
  {
   "cell_type": "code",
   "execution_count": null,
   "id": "e44e5080",
   "metadata": {},
   "outputs": [],
   "source": [
    "# Following is executed in the right order:\n",
    "\n",
    "num = 17\n",
    "\n",
    "if num % 2 == 0 and num % 3 == 0:\n",
    "    print(\"num is divisible by both 2 and 3\")\n",
    "\n",
    "elif num % 2 == 0:\n",
    "    print(\"num is divisible by 2\")\n",
    "   \n",
    "elif num % 3 == 0:\n",
    "    print(\"num is divisible by 3\")\n",
    "    \n",
    "else:\n",
    "    print(\"num not divisible by 2 or 3\")"
   ]
  },
  {
   "cell_type": "code",
   "execution_count": null,
   "id": "1f7e445c",
   "metadata": {},
   "outputs": [],
   "source": [
    "#This shows what happens if you use multiple if statements instead of if/elif.\n",
    "#all of them are executed if the check evaluates to true\n",
    "\n",
    "num = 14\n",
    "\n",
    "if num % 2 == 0 and num % 3 == 0:\n",
    "    print(\"num is divisible by both 2 and 3\")\n",
    "\n",
    "if num % 2 == 0:\n",
    "    print(\"num is divisible by 2\")\n",
    "    \n",
    "if num % 3 == 0:\n",
    "    print(\"num is divisible by 3\")\n",
    "    \n",
    "else:\n",
    "    print(\"num not divisible by 3\")\n",
    "   "
   ]
  },
  {
   "cell_type": "markdown",
   "id": "092efc9a",
   "metadata": {},
   "source": [
    "You cannot interrupt the flow of if/elif/else statements with another line of code because if/elif/else in a block are connected to each other. \n",
    "\n",
    "But two if statements are separate. They are not connected to each other."
   ]
  },
  {
   "cell_type": "code",
   "execution_count": null,
   "id": "024ca230",
   "metadata": {},
   "outputs": [],
   "source": [
    "#syntax error\n",
    "\n",
    "num = 14\n",
    "\n",
    "if num % 2 == 0:\n",
    "    print(\"num is a multiple of 2\")\n",
    "    \n",
    "print(\"\\n\")\n",
    "    \n",
    "else:\n",
    "    print(\"not a multiple of 2\")"
   ]
  },
  {
   "cell_type": "code",
   "execution_count": null,
   "id": "1b621777",
   "metadata": {},
   "outputs": [],
   "source": [
    "#no syntax error when print(\"\\n\") is between two ifs\n",
    "\n",
    "num = 6\n",
    "\n",
    "if num%2 == 0 and num%3 == 0:\n",
    "    print(\"num is a multiple of 2 and 3\")\n",
    "    \n",
    "print(\"\\n\")    \n",
    "    \n",
    "if num%3 == 0:\n",
    "    print(\"num is a multiple of 3\")\n",
    "    \n",
    "print(\"\\n\")\n",
    "    \n",
    "if num % 2 == 0:\n",
    "    print(\"num is a multiple of 2\")\n",
    "    \n",
    "else:\n",
    "    print(\"not a multiple of 2 or 3\")"
   ]
  },
  {
   "cell_type": "markdown",
   "id": "d421a308",
   "metadata": {},
   "source": [
    "#### IN CLASS PRACTICE QUESTION"
   ]
  },
  {
   "cell_type": "code",
   "execution_count": null,
   "id": "9aa75d3d",
   "metadata": {},
   "outputs": [],
   "source": [
    "marks = 76\n",
    "age = 17\n",
    "\n",
    "# if marks are above 75 and age is above 18: eligible\n",
    "# if marks are between 60 and 75 and age is above 18: conditional admission\n",
    "# if marks are below 60 or age is 18 or below: not eligible \n",
    "\n",
    "\n",
    "if age <= 18 or marks < 60:\n",
    "    \n",
    "    print(\"not eligible\")\n",
    "\n",
    "elif marks > 75:\n",
    "    \n",
    "    print(\"eligible\")\n",
    "    \n",
    "elif 60 < marks <= 75:\n",
    "    \n",
    "    print(\"conditionally eligible\")\n",
    "    "
   ]
  },
  {
   "cell_type": "markdown",
   "id": "8415d4be",
   "metadata": {},
   "source": [
    "### A BIT ON THE RANGE FUNCTION:\n",
    "\n",
    "range objects are number sequences. To view the sequence, you need to turn it into a list, otherwise only a range object is returned. \n",
    "\n",
    "you can use range(int) to make a loop run a certain number of times as you'll see under the FOR LOOP section"
   ]
  },
  {
   "cell_type": "code",
   "execution_count": null,
   "id": "1dd43e1f",
   "metadata": {},
   "outputs": [],
   "source": [
    "range(5) \n",
    "\n",
    "#this will just return a object. your for loop knows how to interpret this sequence and use the numbers inside it.\n",
    "#if you need to view the numbers, you can use it inside the list() function. I have done this in the cell below. "
   ]
  },
  {
   "cell_type": "code",
   "execution_count": null,
   "id": "46873f03",
   "metadata": {},
   "outputs": [],
   "source": [
    "#range(start,stop,step)\n",
    "\n",
    "print(list(range(15)))\n",
    "print(list(range(3,15)))\n",
    "print(list(range(2,15,2)))\n",
    "print(list(range(15,3, -2)))"
   ]
  },
  {
   "cell_type": "markdown",
   "id": "798985a1",
   "metadata": {},
   "source": [
    "### FOR LOOPS:\n",
    "\n",
    "can be given an iterable and the code iterates over it, i.e. the same block is executed multiple times\n",
    "\n",
    "#you can iterate over an iterable like a string, list, tuple, dictionary \n"
   ]
  },
  {
   "cell_type": "code",
   "execution_count": null,
   "id": "93028170",
   "metadata": {},
   "outputs": [],
   "source": [
    "#printing a string 5 times by repeating the command\n",
    "\n",
    "print(\"python\")\n",
    "print(\"python\")\n",
    "print(\"python\")\n",
    "print(\"python\")\n",
    "print(\"python\")"
   ]
  },
  {
   "cell_type": "code",
   "execution_count": null,
   "id": "6142b929",
   "metadata": {},
   "outputs": [],
   "source": [
    "#printing a string 5 times using one command but making it run five times in a for loop\n",
    "\n",
    "for i in range(5):\n",
    "    print(\"python\")"
   ]
  },
  {
   "cell_type": "code",
   "execution_count": null,
   "id": "3a75df8d",
   "metadata": {},
   "outputs": [],
   "source": [
    "#here, num will first store 0, then that is ovewritten by 1 in the next iteration, then 1 is overwritten by 2 \n",
    "#so on until 5 (BUT NOT INCLUDING 5)\n",
    "\n",
    "for i in range(5):\n",
    "    print(i) #whichever value i has on the iteration will be printed"
   ]
  },
  {
   "cell_type": "code",
   "execution_count": null,
   "id": "e1eee7eb",
   "metadata": {},
   "outputs": [],
   "source": [
    "#you need the range function because you cannot iterate over an integer like below\n",
    "#this code will throw an error\n",
    "\n",
    "for num in 5: \n",
    "    print(num)"
   ]
  },
  {
   "cell_type": "code",
   "execution_count": null,
   "id": "01f3c5f2",
   "metadata": {},
   "outputs": [],
   "source": [
    "#iterating over a string\n",
    "\n",
    "for letter in \"python\":\n",
    "    print(letter)"
   ]
  },
  {
   "cell_type": "code",
   "execution_count": null,
   "id": "96db6f4b",
   "metadata": {},
   "outputs": [],
   "source": [
    "#iterating over a list\n",
    "\n",
    "fruits = ['mango', 'apple', 'banana', 'grapes', 'watermelon']\n",
    "\n",
    "for item in fruits:\n",
    "    print(item)"
   ]
  },
  {
   "cell_type": "code",
   "execution_count": null,
   "id": "c48ea7f5",
   "metadata": {},
   "outputs": [],
   "source": [
    "#iterating over a list using indexing and the range function\n",
    "\n",
    "fruits = ['mango', 'apple', 'banana', 'grapes', 'watermelon', \"guava\", \"melon\"]\n",
    "\n",
    "for i in range(len(fruits)):\n",
    "    print(fruits[i])"
   ]
  },
  {
   "cell_type": "code",
   "execution_count": null,
   "id": "5901a48f",
   "metadata": {},
   "outputs": [],
   "source": [
    "#range(len(fruits)) becomes range(7) i.e. integers from 0-7(exluding 7)\n",
    "#using range(len(fruits)) is basically like doing the following:\n",
    "\n",
    "fruits = ['mango', 'apple', 'banana', 'grapes', 'watermelon', \"guava\", \"melon\"]\n",
    "\n",
    "for num in [0, 1, 2, 3, 4, 5, 6]:\n",
    "    \n",
    "    print(num)\n",
    "    print(fruits[num])\n",
    "    print(fruits[num][1])\n",
    "    print(\"\\n\")"
   ]
  },
  {
   "cell_type": "code",
   "execution_count": null,
   "id": "0267f5a4",
   "metadata": {},
   "outputs": [],
   "source": [
    "#printing all fruits containing \"m\"\n",
    "\n",
    "\n",
    "#method 1 using the list as the iterable\n",
    "print(\"method 1\")\n",
    "\n",
    "fruits = ['mango', 'apple', 'banana', 'grapes', 'watermelon', \"guava\", \"melon\"]\n",
    "\n",
    "for element in ['mango', 'apple', 'banana', 'grapes', 'watermelon', \"guava\", \"melon\"]:\n",
    "\n",
    "        if \"m\" in element:\n",
    "            print(element)\n",
    "    "
   ]
  },
  {
   "cell_type": "code",
   "execution_count": null,
   "id": "a57c23bc",
   "metadata": {},
   "outputs": [],
   "source": [
    "#printing all fruits containing \"m\"\n",
    "\n",
    "#method 2 using numbers generated by the range function as an iterable and indexing\n",
    "print(\"method 2\")\n",
    "\n",
    "fruits = ['mango', 'apple', 'banana', 'grapes', 'watermelon', \"guava\", \"melon\"]\n",
    "\n",
    "for i in range(len(fruits)):\n",
    "\n",
    "        if \"m\" in fruits[i]:\n",
    "            print(fruits[i])\n"
   ]
  },
  {
   "cell_type": "code",
   "execution_count": null,
   "id": "50533d20",
   "metadata": {},
   "outputs": [],
   "source": [
    "#using a range object is useful when you need index too while iterating over a list like in the example below\n",
    "#to update an element in a list, you need its index. this is why your for loop needs to run on a collection of numbers instead of the list itself\n",
    "\n",
    "fruits = ['mango', 'apple', 'banana', 'grapes', 'watermelon', \"guava\", \"melon\"]\n",
    "\n",
    "for i in range(len(fruits)):\n",
    "    \n",
    "    fruits[i] = fruits[i] + \" fruit\"\n",
    "\n",
    "    \n",
    "print(fruits)"
   ]
  },
  {
   "cell_type": "markdown",
   "id": "75820cf7",
   "metadata": {},
   "source": [
    "#### ZIP AND ENUMERATE"
   ]
  },
  {
   "cell_type": "code",
   "execution_count": null,
   "id": "5937fb0d",
   "metadata": {},
   "outputs": [],
   "source": [
    "#zip basically creates tuple pairs of elements from both lists\n",
    "\n",
    "\n",
    "fruits = ['mango', 'apple', 'banana', 'grapes', 'watermelon', \"guava\", \"melon\"]\n",
    "numbers = [10,20,30,40,50,60,70]   \n",
    "\n",
    "for i in zip(fruits, numbers):\n",
    "    \n",
    "    print(i)\n",
    "    print(i[0])\n",
    "    print(i[1])\n",
    "    print(\"\\n\")\n",
    "\n"
   ]
  },
  {
   "cell_type": "code",
   "execution_count": null,
   "id": "07c57dcc",
   "metadata": {},
   "outputs": [],
   "source": [
    "#enumerate creates tuple of iteration number and current item in the iterable. it is like a loop counter\n",
    "\n",
    "fruits = ['mango', 'apple', 'banana', 'grapes', 'watermelon', \"guava\", \"melon\"]\n",
    "\n",
    "\n",
    "for i in enumerate(fruits):\n",
    "    \n",
    "    print(i)\n",
    "    print(i[0])\n",
    "    print(i[1])\n",
    "    print(\"\\n\")\n"
   ]
  },
  {
   "cell_type": "markdown",
   "id": "c29caf2f",
   "metadata": {},
   "source": [
    "#### FOR LOOPS ON DICTIONARIES"
   ]
  },
  {
   "cell_type": "code",
   "execution_count": null,
   "id": "973ea57e",
   "metadata": {},
   "outputs": [],
   "source": [
    "#while iterating over a dictionary, the for loop picks up KEYS\n",
    "\n",
    "grades = {\"Hamza\": [80, 85, 70], \"Hassan\": [80, 90, 95], \"Abeer\":[85, 80, 75]}\n",
    "\n",
    "for item in grades:\n",
    "    \n",
    "    print(item)\n",
    "\n",
    "\n"
   ]
  },
  {
   "cell_type": "code",
   "execution_count": null,
   "id": "89bdf67c",
   "metadata": {},
   "outputs": [],
   "source": [
    "#to get the values, you need to call on the dictionary using the key\n",
    "\n",
    "grades = {\"Hamza\": [80, 85, 70], \"Hassan\": [80, 90, 95], \"Abeer\":[85, 80, 75]}\n",
    "\n",
    "for item in grades:\n",
    "    \n",
    "    print(item)\n",
    "    print(grades[item])\n",
    "\n"
   ]
  },
  {
   "cell_type": "markdown",
   "id": "a45a6450",
   "metadata": {},
   "source": [
    "#### NESTED FOR LOOPS"
   ]
  },
  {
   "cell_type": "code",
   "execution_count": null,
   "id": "f30027d4",
   "metadata": {},
   "outputs": [],
   "source": [
    "fruits = ['mango', 'apple', 'banana', 'grapes', 'watermelon', \"melon\"]\n",
    "\n",
    "for item in fruits:\n",
    "    \n",
    "    for letter in item:\n",
    "        \n",
    "        print(letter)\n",
    "        \n",
    "    print(\"\\n\")\n",
    "    "
   ]
  },
  {
   "cell_type": "code",
   "execution_count": null,
   "id": "a0f7499d",
   "metadata": {},
   "outputs": [],
   "source": [
    "grades = {\"Hamza\": [80, 85, 70], \"Hassan\": [80, 90, 95], \"Abeer\":[85, 80, 75]}\n",
    "\n",
    "for item in grades:\n",
    "    \n",
    "    print(item)\n",
    "    \n",
    "    for i in grades[item]:\n",
    "        print(i)\n",
    "      \n",
    "    print(\"\\n\")\n",
    "\n"
   ]
  },
  {
   "cell_type": "markdown",
   "id": "4c16ef85",
   "metadata": {},
   "source": [
    "#### BREAK, CONTINUE AND PASS IN FOR LOOPS"
   ]
  },
  {
   "cell_type": "code",
   "execution_count": null,
   "id": "97fe8a59",
   "metadata": {},
   "outputs": [],
   "source": [
    "# A break statement terminates the for loop. No statements are executed after break is reached\n",
    "\n",
    "my_str = \"This is a python class\"\n",
    "\n",
    "\n",
    "for ltr in my_str:\n",
    "           \n",
    "    if ltr == 'p':\n",
    "        break\n",
    "      \n",
    "    print(ltr)\n",
    "    print(\"hello\")\n",
    "    print(\"\\n\")\n",
    "\n"
   ]
  },
  {
   "cell_type": "code",
   "execution_count": null,
   "id": "3220ef71",
   "metadata": {},
   "outputs": [],
   "source": [
    "# A continue statement skips to the next iteration without executing the remaining code in that iteration\n",
    "    \n",
    "my_str = \"This is a python class\"\n",
    "\n",
    "\n",
    "for ltr in my_str:\n",
    "           \n",
    "    if ltr == 'p':\n",
    "        continue\n",
    "      \n",
    "    print(ltr)\n",
    "    print(\"hello\")\n",
    "    print(\"\\n\")\n",
    "    \n",
    "    "
   ]
  },
  {
   "cell_type": "code",
   "execution_count": null,
   "id": "3a079dcb",
   "metadata": {},
   "outputs": [],
   "source": [
    "# Pass does nothing but can act as a filler/placeholder. without it, an empty conditional or loop will throw an error\n",
    "\n",
    "\n",
    "my_str = \"This is a python class\"\n",
    "\n",
    "\n",
    "for ltr in my_str:\n",
    "           \n",
    "    if ltr == 'p':\n",
    "        pass\n",
    "      \n",
    "    print(ltr)  \n",
    "    print(\"hello\")\n",
    "    print(\"\\n\")"
   ]
  },
  {
   "cell_type": "code",
   "execution_count": null,
   "id": "092d47b2",
   "metadata": {},
   "outputs": [],
   "source": [
    "#empty if statement throws an error without pass\n",
    "\n",
    "my_str = \"python\"\n",
    "\n",
    "\n",
    "for ltr in my_str:\n",
    "           \n",
    "    if ltr == 't':\n",
    "\n",
    "      \n",
    "    print(ltr)  \n",
    "    print(\"hello\")\n",
    "    print(\"\\n\")"
   ]
  },
  {
   "cell_type": "markdown",
   "id": "dcd33e8c",
   "metadata": {},
   "source": [
    "### FOR/ELSE\n",
    "\n",
    "With a for loop, an else is executed ONLY if the loop is completed. if the loop breaks, else is not executed. this can be a way to check if your loop ran for all iterations"
   ]
  },
  {
   "cell_type": "code",
   "execution_count": null,
   "id": "21410c09",
   "metadata": {},
   "outputs": [],
   "source": [
    "#else executed when loop runs completely\n",
    "\n",
    "for x in range(0, 10, 2):\n",
    "    \n",
    "    if x == 3:\n",
    "        print(\"3 found\")\n",
    "        break\n",
    "        \n",
    "    \n",
    "else:\n",
    "    print(\"loop completed. 3 not found\")"
   ]
  },
  {
   "cell_type": "code",
   "execution_count": null,
   "id": "e23b9ec5",
   "metadata": {},
   "outputs": [],
   "source": [
    "#else is not executed if the loop breaks\n",
    "\n",
    "for x in range(0, 10):\n",
    "    \n",
    "    if x == 3:\n",
    "        print(\"3 found\")\n",
    "        break\n",
    "        \n",
    "    \n",
    "else:\n",
    "    print(\"loop completed. 3 not found\")"
   ]
  },
  {
   "cell_type": "code",
   "execution_count": null,
   "id": "b314505d",
   "metadata": {},
   "outputs": [],
   "source": [
    "lst = [1,2,4,5]\n",
    "\n",
    "for num in lst:\n",
    "    \n",
    "    print(num)\n",
    "    \n",
    "    if num == 3:\n",
    "        break\n",
    "\n",
    "    \n",
    "else:\n",
    "    print(\"loop completed\")"
   ]
  },
  {
   "cell_type": "markdown",
   "id": "a0104c27",
   "metadata": {},
   "source": [
    "### WHILE LOOP:\n",
    "\n",
    "1) A while loop will keep running as long as a condition is true\n",
    "2) It will terminate if the condition is false or if it reaches a break statement inside it \n",
    "3) You can use break and continue inside while loops the same way you use them inside for loops"
   ]
  },
  {
   "cell_type": "code",
   "execution_count": null,
   "id": "6d7e2dd8",
   "metadata": {},
   "outputs": [],
   "source": [
    "i = 6\n",
    "\n",
    "while i > 0:\n",
    "    \n",
    "    print(i)\n",
    "    i -= 1\n",
    "    \n"
   ]
  },
  {
   "cell_type": "code",
   "execution_count": null,
   "id": "09be28d9",
   "metadata": {},
   "outputs": [],
   "source": [
    "#pay attention to the sequence of code statements and compare the output from above to this output\n",
    "\n",
    "i = 6\n",
    "\n",
    "while i > 0:\n",
    "    \n",
    "    i -= 1\n",
    "    print(i)\n",
    "    \n",
    "    "
   ]
  },
  {
   "cell_type": "code",
   "execution_count": null,
   "id": "e297226b",
   "metadata": {},
   "outputs": [],
   "source": [
    "i = 6\n",
    "\n",
    "while i >= 0:\n",
    "    \n",
    "    print(i)\n",
    "    i -= 1\n",
    "    \n",
    "    if i == 3:\n",
    "        break\n",
    "    \n",
    "\n",
    "    "
   ]
  },
  {
   "cell_type": "code",
   "execution_count": null,
   "id": "665f7d79",
   "metadata": {},
   "outputs": [],
   "source": [
    "#this will run infinitely. you can use interrupt in the kernel tab to stop this or press escape and then press i twice\n",
    "\n",
    "i = 6\n",
    "\n",
    "while i >= 0:\n",
    "    \n",
    "\n",
    "    if i == 3:\n",
    "        continue\n",
    "    \n",
    "    print(i)\n",
    "    i -= 1\n",
    "    \n"
   ]
  },
  {
   "cell_type": "code",
   "execution_count": null,
   "id": "9497c679",
   "metadata": {},
   "outputs": [],
   "source": [
    "i = 6\n",
    "\n",
    "while i > 0:\n",
    "    \n",
    "    print(i)\n",
    "    i-=1\n",
    "\n",
    "    if i==3:\n",
    "        continue\n"
   ]
  },
  {
   "cell_type": "markdown",
   "id": "12187e91",
   "metadata": {},
   "source": [
    "### while/else\n",
    "\n",
    "like for loops, an else in a while/else is not executed if the while loop breaks. If the loop is completed (i.e. the while condition becomes false), then else is executed"
   ]
  },
  {
   "cell_type": "code",
   "execution_count": null,
   "id": "0d058189",
   "metadata": {},
   "outputs": [],
   "source": [
    "i = 6\n",
    "\n",
    "while i >= 0:\n",
    "                    \n",
    "    print(i)\n",
    "    i -= 1\n",
    "    \n",
    "else:\n",
    "    print(\"loop fully completed\")"
   ]
  },
  {
   "cell_type": "code",
   "execution_count": null,
   "id": "48dc3409",
   "metadata": {},
   "outputs": [],
   "source": [
    "#here the loop will break so else will not be executed\n",
    "\n",
    "i = 6\n",
    "\n",
    "while i > 0:\n",
    "    \n",
    "    print(i)\n",
    "    i -= 1\n",
    "    \n",
    "    if i == 3:\n",
    "        break\n",
    "        \n",
    "else:   \n",
    "    print(\"while loop completed\")"
   ]
  }
 ],
 "metadata": {
  "kernelspec": {
   "display_name": "Python 3 (ipykernel)",
   "language": "python",
   "name": "python3"
  },
  "language_info": {
   "codemirror_mode": {
    "name": "ipython",
    "version": 3
   },
   "file_extension": ".py",
   "mimetype": "text/x-python",
   "name": "python",
   "nbconvert_exporter": "python",
   "pygments_lexer": "ipython3",
   "version": "3.9.13"
  }
 },
 "nbformat": 4,
 "nbformat_minor": 5
}
